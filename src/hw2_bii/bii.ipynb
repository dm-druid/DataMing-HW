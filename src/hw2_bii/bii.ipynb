{
 "cells": [
  {
   "cell_type": "markdown",
   "metadata": {},
   "source": [
    "# Package import"
   ]
  },
  {
   "cell_type": "code",
   "execution_count": 17,
   "metadata": {},
   "outputs": [],
   "source": [
    "import csv\n",
    "import numpy as np\n",
    "import pandas as pd\n",
    "import time\n",
    "from datetime import timedelta\n",
    "from PrefixSpan import *"
   ]
  },
  {
   "cell_type": "markdown",
   "metadata": {},
   "source": [
    "# 1. Read Data"
   ]
  },
  {
   "cell_type": "code",
   "execution_count": 18,
   "metadata": {},
   "outputs": [],
   "source": [
    "raw_data = pd.read_csv('../../data/trade_new.csv', index_col=0) # trade_new.csv  and  trade.csv\n",
    "raw_data = raw_data.reset_index(drop=True)\n",
    "\n",
    "# raw_data = pd.read_csv('../../data/trade.csv')\n",
    "# print(\"Read data...\")"
   ]
  },
  {
   "cell_type": "code",
   "execution_count": 20,
   "metadata": {},
   "outputs": [],
   "source": [
    "# use a dict to store the transaction of each vip\n",
    "# also record the sldatime\n",
    "l_data = len(raw_data)\n",
    "vip_transaction = {}\n",
    "vip_set = set()\n",
    "for i in range(l_data):\n",
    "    v = raw_data.loc[i, 'vipno']\n",
    "    t = raw_data.loc[i, 'sldatime'] # sldat -> trade.csv   sldatime -> trade_new.csv\n",
    "    if v in vip_set:\n",
    "        vip_transaction[v].append((t, i))\n",
    "    else:\n",
    "        vip_transaction[v] = [(t, i)]\n",
    "        vip_set.add(v)"
   ]
  },
  {
   "cell_type": "code",
   "execution_count": 21,
   "metadata": {},
   "outputs": [],
   "source": [
    "# sort and cut the data\n",
    "vip_list = list(vip_set)\n",
    "for v in vip_list:\n",
    "    # sort\n",
    "    t = vip_transaction[v]\n",
    "    t = sorted(t, key=lambda x:x[0])\n",
    "    \n",
    "    # cut and pick up the index only\n",
    "    l = round(len(t) * 0.6)\n",
    "    t = t[:l]\n",
    "    vip_transaction[v] = [tt[1] for tt in t] # tt[0] --> time , tt[1] --> index of raw_data"
   ]
  },
  {
   "cell_type": "code",
   "execution_count": 22,
   "metadata": {},
   "outputs": [],
   "source": [
    "def split_transaction(indice, item_label, transactions):\n",
    "    sequence = []\n",
    "    split_data = raw_data.loc[indice, ['uid', item_label]] # get the uid and pluno/dptno/bndno columns\n",
    "    if item_label == 'bndno':\n",
    "        split_data = split_data.dropna(how='any')\n",
    "        split_data['bndno'] = split_data['bndno'].astype('int')\n",
    "    groups = split_data.groupby('uid').groups\n",
    "    for u in groups:\n",
    "        index = groups[u] # index of the same uid\n",
    "        item = list(split_data.loc[index, item_label]) # get one transaction\n",
    "        if item != []:\n",
    "            sequence.append(item)\n",
    "    if sequence != []:\n",
    "        transactions.append(sequence)"
   ]
  },
  {
   "cell_type": "code",
   "execution_count": 23,
   "metadata": {
    "scrolled": true
   },
   "outputs": [
    {
     "name": "stdout",
     "output_type": "stream",
     "text": [
      "item -- bndno\n",
      "467\n",
      "support = 10 done. totally cost =  0:00:00.257557\n",
      "support = 8 done. totally cost =  0:00:00.399923\n",
      "support = 6 done. totally cost =  0:00:00.732862\n",
      "support = 4 done. totally cost =  0:00:01.926044\n",
      "item -- dptno\n",
      "486\n",
      "support = 10 done. totally cost =  0:00:01.380294\n",
      "support = 8 done. totally cost =  0:00:01.616023\n",
      "support = 6 done. totally cost =  0:00:03.502696\n",
      "support = 4 done. totally cost =  0:00:09.546950\n",
      "item -- pluno\n",
      "486\n",
      "support = 10 done. totally cost =  0:00:00.467200\n",
      "support = 8 done. totally cost =  0:00:00.504950\n",
      "support = 6 done. totally cost =  0:00:00.763768\n",
      "support = 4 done. totally cost =  0:00:01.542819\n"
     ]
    }
   ],
   "source": [
    "item_labels = ['bndno', 'dptno', 'pluno', ]\n",
    "time_duration = []\n",
    "for item_label in item_labels:\n",
    "    print(\"item -- {}\".format(item_label))\n",
    "    # fill the transactions with the items\n",
    "    transactions = []\n",
    "    for v in vip_list:\n",
    "        split_transaction(vip_transaction[v], item_label, transactions)\n",
    "    print(len(transactions)) # print the transaction number\n",
    "#     print(transactions)\n",
    "    # call FP algorithm\n",
    "    supports = [10, 8, 6, 4]\n",
    "    for s in supports:\n",
    "        time_start=time.time()\n",
    "        patterns = prefixSpan(SquencePattern([], sys.maxsize), transactions, s)\n",
    "        with open('sp_{0}_{1}.txt'.format(item_label, s), 'w') as f:\n",
    "            for p in patterns:\n",
    "                f.write(\"{0} -- s={1}\\n\".format(p.squence, p.support))\n",
    "        time_end=time.time()\n",
    "        print('support = {} done. totally cost = '.format(s), timedelta(seconds=time_end-time_start))\n",
    "        time_duration.append(time_end-time_start)"
   ]
  },
  {
   "cell_type": "code",
   "execution_count": 24,
   "metadata": {},
   "outputs": [],
   "source": [
    "with open('time.csv', 'w') as f:\n",
    "    t = ','.join([str(x) for x in time_duration[:4]])\n",
    "    f.write(t + '\\n')\n",
    "    t = ','.join([str(x) for x in time_duration[4:8]])\n",
    "    f.write(t + '\\n')\n",
    "    t = ','.join([str(x) for x in time_duration[8:]])\n",
    "    f.write(t + '\\n')"
   ]
  },
  {
   "cell_type": "code",
   "execution_count": 25,
   "metadata": {},
   "outputs": [
    {
     "name": "stdout",
     "output_type": "stream",
     "text": [
      "[0.2575571537017822, 0.39992308616638184, 0.7328622341156006, 1.9260437488555908]\n",
      "[1.380293846130371, 1.616023063659668, 3.5026960372924805, 9.546950340270996]\n",
      "[0.46719980239868164, 0.5049498081207275, 0.7637677192687988, 1.5428187847137451]\n"
     ]
    }
   ],
   "source": [
    "print(time_duration[:4])\n",
    "print(time_duration[4:8])\n",
    "print(time_duration[8:])"
   ]
  },
  {
   "cell_type": "code",
   "execution_count": 26,
   "metadata": {},
   "outputs": [
    {
     "name": "stdout",
     "output_type": "stream",
     "text": [
      "3100\n",
      "6171\n",
      "16219\n",
      "117399\n",
      "350\n",
      "555\n",
      "1144\n",
      "4143\n",
      "893\n",
      "1676\n",
      "4426\n",
      "26122\n"
     ]
    }
   ],
   "source": [
    "item_labels = ['dptno', 'pluno', 'bndno']\n",
    "numbers = []\n",
    "for item_label in item_labels:\n",
    "    supports = [10, 8, 6, 4]\n",
    "    for s in supports:\n",
    "        item_number = 0 \n",
    "        with open('result_new/sp_{0}_{1}.txt'.format(item_label, s), 'r') as f:\n",
    "            for line in f:\n",
    "                item_number += 1\n",
    "        print(item_number)\n",
    "        numbers.append(item_number)"
   ]
  },
  {
   "cell_type": "code",
   "execution_count": 27,
   "metadata": {},
   "outputs": [],
   "source": [
    "with open('number.csv', 'w') as f:\n",
    "    t = ','.join([str(x) for x in numbers[:4]])\n",
    "    f.write(t + '\\n')\n",
    "    t = ','.join([str(x) for x in numbers[4:8]])\n",
    "    f.write(t + '\\n')\n",
    "    t = ','.join([str(x) for x in numbers[8:]])\n",
    "    f.write(t + '\\n')"
   ]
  },
  {
   "cell_type": "code",
   "execution_count": null,
   "metadata": {},
   "outputs": [],
   "source": []
  }
 ],
 "metadata": {
  "kernelspec": {
   "display_name": "Python3(venv)",
   "language": "python",
   "name": "venv"
  },
  "language_info": {
   "codemirror_mode": {
    "name": "ipython",
    "version": 3
   },
   "file_extension": ".py",
   "mimetype": "text/x-python",
   "name": "python",
   "nbconvert_exporter": "python",
   "pygments_lexer": "ipython3",
   "version": "3.6.2"
  }
 },
 "nbformat": 4,
 "nbformat_minor": 2
}
