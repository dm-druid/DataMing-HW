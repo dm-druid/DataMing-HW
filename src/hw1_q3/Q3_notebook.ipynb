{
 "cells": [
  {
   "cell_type": "markdown",
   "metadata": {},
   "source": [
    "# Import packages and Pre-define func"
   ]
  },
  {
   "cell_type": "code",
   "execution_count": 1,
   "metadata": {},
   "outputs": [],
   "source": [
    "import csv\n",
    "import numpy as np\n",
    "import pandas as pd\n",
    "import pip\n",
    "\n",
    "def pip_install(module):\n",
    "    pip.main(['install', module])\n",
    "\n",
    "# pip_install('scipy')\n",
    "# pip_install('matplotlib')"
   ]
  },
  {
   "cell_type": "code",
   "execution_count": 2,
   "metadata": {},
   "outputs": [],
   "source": [
    "def prepare_data():\n",
    "    raw_data = pd.read_csv('../../data/trade.csv')\n",
    "    # count the number of vipno and pluno\n",
    "    vip_set = set(raw_data.vipno)\n",
    "    n_vip = len(vip_set)\n",
    "    plu_set = set(raw_data.pluno)\n",
    "    n_plu = len(plu_set)\n",
    "    \n",
    "    # construct the data matrix of the trade\n",
    "    vipno = list(vip_set)\n",
    "    pluno = list(plu_set)\n",
    "    trade_mat = pd.DataFrame(np.zeros([n_plu, n_vip]), index=pluno, columns=vipno)\n",
    "    l = len(raw_data)\n",
    "    for i in range(l):\n",
    "        p = raw_data.loc[i, 'pluno']\n",
    "        v = raw_data.loc[i, 'vipno']\n",
    "        a = raw_data.loc[i, 'amt']\n",
    "        trade_mat.at[p, v] += a\n",
    "        \n",
    "    # apply round\n",
    "    trade_mat.apply(np.round)\n",
    "    trade_mat = trade_mat.astype('int64') # it depends\n",
    "    return trade_mat, vipno, pluno, n_vip, n_plu"
   ]
  },
  {
   "cell_type": "markdown",
   "metadata": {},
   "source": [
    "# Plot silhouette function"
   ]
  },
  {
   "cell_type": "code",
   "execution_count": 3,
   "metadata": {},
   "outputs": [
    {
     "name": "stdout",
     "output_type": "stream",
     "text": [
      "298\n"
     ]
    },
    {
     "name": "stderr",
     "output_type": "stream",
     "text": [
      "/Users/jiangyukai/Developer/DataMing-HW/venv/lib/python3.6/site-packages/sklearn/utils/validation.py:475: DataConversionWarning: Data with input dtype int64 was converted to float64 by StandardScaler.\n",
      "  warnings.warn(msg, DataConversionWarning)\n"
     ]
    }
   ],
   "source": [
    "# get the data for clustering\n",
    "from sklearn.preprocessing import StandardScaler\n",
    "from sklearn.metrics import silhouette_samples, silhouette_score\n",
    "import matplotlib.pyplot as plt\n",
    "import numpy as np\n",
    "\n",
    "trade_mat, vipno, pluno, n_vip, n_plu = prepare_data()\n",
    "X = trade_mat.values\n",
    "X = X.transpose()\n",
    "# standarize\n",
    "scaler = StandardScaler()\n",
    "X = scaler.fit_transform(X)"
   ]
  },
  {
   "cell_type": "markdown",
   "metadata": {},
   "source": [
    "# (a) Silhouette coefficient - k cluster plot"
   ]
  },
  {
   "cell_type": "code",
   "execution_count": 4,
   "metadata": {},
   "outputs": [],
   "source": [
    "from scipy.interpolate import interp1d\n",
    "from sklearn.cluster import DBSCAN\n",
    "\n",
    "def cluster_eva(X, eps, min_samples=2):\n",
    "    cluster_labels = DBSCAN(eps=eps, min_samples=min_samples).fit_predict(X)\n",
    "    cluster_num = len(set(cluster_labels))\n",
    "    \n",
    "    silhouette_avg = silhouette_score(X, cluster_labels)\n",
    "    print(\"For eps =\", eps, \", min_samples =\", min_samples,\n",
    "          \"The average silhouette_score is :\", silhouette_avg)\n",
    "    print(\"cluster number =\", cluster_num)\n",
    "    return silhouette_avg, cluster_labels"
   ]
  },
  {
   "cell_type": "code",
   "execution_count": 12,
   "metadata": {},
   "outputs": [
    {
     "name": "stdout",
     "output_type": "stream",
     "text": [
      "Calculate a random distance:  60.57628662712961\n"
     ]
    }
   ],
   "source": [
    "# print(len(X))\n",
    "# print(X[1,:])\n",
    "dist = np.sqrt(np.sum(np.power(X[1]- X[2], 2)))\n",
    "print(\"Calculate a random distance: \", dist)"
   ]
  },
  {
   "cell_type": "code",
   "execution_count": 13,
   "metadata": {},
   "outputs": [
    {
     "name": "stdout",
     "output_type": "stream",
     "text": [
      "For eps = 20 , min_samples = 2 The average silhouette_score is : -0.1943073408475275\n",
      "cluster number = 2\n",
      "For eps = 30 , min_samples = 2 The average silhouette_score is : -0.026503556013489398\n",
      "cluster number = 2\n",
      "For eps = 40 , min_samples = 2 The average silhouette_score is : 0.08712849271507551\n",
      "cluster number = 2\n",
      "For eps = 50 , min_samples = 2 The average silhouette_score is : 0.2094984819671238\n",
      "cluster number = 2\n",
      "For eps = 60 , min_samples = 2 The average silhouette_score is : 0.27982027130825804\n",
      "cluster number = 2\n",
      "For eps = 70 , min_samples = 2 The average silhouette_score is : 0.33875563308983186\n",
      "cluster number = 2\n",
      "For eps = 80 , min_samples = 2 The average silhouette_score is : 0.4069508182311087\n",
      "cluster number = 2\n",
      "For eps = 90 , min_samples = 2 The average silhouette_score is : 0.42974201504628934\n",
      "cluster number = 2\n",
      "For eps = 100 , min_samples = 2 The average silhouette_score is : 0.4578645031901576\n",
      "cluster number = 2\n",
      "For eps = 110 , min_samples = 2 The average silhouette_score is : 0.4886139740517373\n",
      "cluster number = 2\n",
      "For eps = 120 , min_samples = 2 The average silhouette_score is : 0.5007546299517409\n",
      "cluster number = 2\n",
      "For eps = 130 , min_samples = 2 The average silhouette_score is : 0.5247064918942913\n",
      "cluster number = 2\n"
     ]
    }
   ],
   "source": [
    "ks = []\n",
    "y = []\n",
    "labels = []\n",
    "for eps in range(20, 140, 10):\n",
    "    ks.append(eps)\n",
    "    sil_avg, cluster_labels = cluster_eva(X, eps)\n",
    "    y.append(sil_avg)\n",
    "    labels.append(cluster_labels)"
   ]
  },
  {
   "cell_type": "code",
   "execution_count": 14,
   "metadata": {},
   "outputs": [
    {
     "data": {
      "image/png": "[encoded data removed]",
      "text/plain": [
       "<Figure size 432x288 with 1 Axes>"
      ]
     },
     "metadata": {},
     "output_type": "display_data"
    }
   ],
   "source": [
    "f = interp1d(ks, y)\n",
    "\n",
    "xnew = ks.copy()\n",
    "plt.plot(ks, y, 'o', xnew, f(xnew), '-')\n",
    "plt.legend(['data', 'linear'], loc='best')\n",
    "plt.xlabel(\"eps\")\n",
    "plt.ylabel(\"The average silhouette_score\")\n",
    "plt.title(\"The Silhouette-eps plot\")\n",
    "plt.show()"
   ]
  },
  {
   "cell_type": "code",
   "execution_count": 8,
   "metadata": {},
   "outputs": [
    {
     "name": "stdout",
     "output_type": "stream",
     "text": [
      "[-1 -1  0 -1 -1 -1 -1 -1  0 -1 -1 -1 -1 -1 -1 -1 -1  0 -1 -1  0 -1 -1 -1\n",
      " -1 -1 -1 -1 -1 -1 -1 -1 -1 -1 -1 -1 -1 -1 -1 -1 -1  0 -1 -1 -1 -1 -1 -1\n",
      " -1 -1 -1 -1 -1 -1 -1 -1 -1 -1 -1 -1 -1 -1 -1 -1 -1 -1 -1 -1  0 -1 -1 -1\n",
      " -1 -1 -1 -1 -1 -1 -1 -1 -1  0 -1 -1 -1 -1 -1 -1 -1 -1  0 -1 -1 -1 -1  0\n",
      "  0 -1  0 -1 -1 -1 -1 -1 -1 -1 -1 -1 -1 -1 -1 -1 -1 -1 -1 -1  0 -1 -1 -1\n",
      " -1 -1 -1 -1 -1 -1 -1 -1 -1 -1 -1 -1 -1 -1 -1 -1 -1 -1 -1 -1 -1 -1 -1 -1\n",
      " -1 -1 -1 -1 -1 -1 -1 -1 -1 -1 -1 -1 -1 -1 -1 -1 -1 -1 -1 -1 -1 -1 -1 -1\n",
      " -1 -1 -1 -1 -1 -1  0 -1 -1 -1 -1 -1  0 -1 -1 -1  0 -1 -1 -1 -1 -1 -1 -1\n",
      " -1 -1 -1 -1 -1 -1 -1 -1 -1 -1  0 -1 -1 -1 -1 -1 -1 -1 -1 -1 -1 -1 -1 -1\n",
      " -1 -1 -1 -1  0 -1 -1 -1 -1 -1 -1 -1 -1 -1 -1 -1 -1 -1 -1 -1 -1 -1 -1 -1\n",
      " -1 -1 -1 -1 -1 -1 -1 -1 -1 -1 -1 -1 -1 -1 -1 -1 -1 -1 -1 -1 -1 -1 -1 -1\n",
      "  0 -1 -1 -1 -1 -1 -1 -1 -1 -1 -1 -1 -1 -1 -1  0 -1 -1 -1 -1 -1 -1 -1 -1\n",
      " -1 -1 -1 -1 -1 -1 -1 -1 -1 -1]\n"
     ]
    }
   ],
   "source": [
    "# print(labels[2])"
   ]
  },
  {
   "cell_type": "markdown",
   "metadata": {},
   "source": [
    "# (b) Test with LSH"
   ]
  },
  {
   "cell_type": "code",
   "execution_count": 9,
   "metadata": {},
   "outputs": [],
   "source": [
    "from lshash.lshash import LSHash\n",
    "\n",
    "print(\"Start test with lshash...\")\n",
    "e = 0.01\n",
    "lsh = LSHash(round(n_vip * e), n_plu)\n",
    "for v in vipno:\n",
    "    feature = list(trade_mat[v])\n",
    "    lsh.index(feature, extra_data=v)"
   ]
  },
  {
   "cell_type": "code",
   "execution_count": 17,
   "metadata": {},
   "outputs": [],
   "source": [
    "import random\n",
    "\n",
    "\n",
    "def lsh_test():\n",
    "    correct = 0\n",
    "    # pick up a random vipno\n",
    "    pick_vip = random.randint(1, n_vip)\n",
    "    cluster_label = labels[ks.index(130)] # when eps = 130\n",
    "    pick_vipno = vipno[pick_vip]\n",
    "    cluster1 = cluster_label[pick_vip]\n",
    "    print(\"Pick up a vip: {0}, cluster = {1}\".format(pick_vipno, cluster1))\n",
    "\n",
    "    # lsh query and write the results\n",
    "    candi = lsh.query(list(trade_mat[pick_vipno]))\n",
    "    l = len(candi)\n",
    "#     print(l)\n",
    "    for i, item in enumerate(candi[1:]):\n",
    "        dist = item[1]\n",
    "        feature = list(item[0][0])\n",
    "        v = item[0][1]\n",
    "        lsh_pair_no = vipno.index(v)\n",
    "        cluster2 = cluster_label[lsh_pair_no]\n",
    "#         print(\"for vip {0}: distance = {1}, cluster = {2}\".format(v, dist, cluster2))\n",
    "        if cluster2 == cluster1:\n",
    "            correct += 1\n",
    "    print(\"accuracy =\", correct, '/', l)\n",
    "    return correct/float(l)"
   ]
  },
  {
   "cell_type": "code",
   "execution_count": 20,
   "metadata": {},
   "outputs": [
    {
     "name": "stdout",
     "output_type": "stream",
     "text": [
      "Time # 1\n",
      "Pick up a vip: 1591015187897, cluster = 0\n",
      "accuracy = 35 / 36\n",
      "Time # 2\n",
      "Pick up a vip: 1595150991142, cluster = 0\n",
      "accuracy = 44 / 46\n",
      "Time # 3\n",
      "Pick up a vip: 2900001665032, cluster = 0\n",
      "accuracy = 47 / 48\n",
      "Time # 4\n",
      "Pick up a vip: 1590151210391, cluster = 0\n",
      "accuracy = 35 / 36\n",
      "Time # 5\n",
      "Pick up a vip: 1591040484060, cluster = 0\n",
      "accuracy = 50 / 51\n",
      "Time # 6\n",
      "Pick up a vip: 1590151658711, cluster = 0\n",
      "accuracy = 30 / 31\n",
      "Time # 7\n",
      "Pick up a vip: 1590140606433, cluster = 0\n",
      "accuracy = 35 / 36\n",
      "Time # 8\n",
      "Pick up a vip: 1591013368588, cluster = 0\n",
      "accuracy = 50 / 51\n",
      "Time # 9\n",
      "Pick up a vip: 1591013877134, cluster = 0\n",
      "accuracy = 50 / 51\n",
      "Time # 10\n",
      "Pick up a vip: 1591012034781, cluster = 0\n",
      "accuracy = 50 / 51\n",
      "Time # 11\n",
      "Pick up a vip: 1595160029163, cluster = 0\n",
      "accuracy = 24 / 25\n",
      "Time # 12\n",
      "Pick up a vip: 1591015159689, cluster = 0\n",
      "accuracy = 50 / 51\n",
      "Time # 13\n",
      "Pick up a vip: 2900000246638, cluster = 0\n",
      "accuracy = 44 / 46\n",
      "Time # 14\n",
      "Pick up a vip: 1591014690176, cluster = 0\n",
      "accuracy = 47 / 48\n",
      "Time # 15\n",
      "Pick up a vip: 1591016151613, cluster = 0\n",
      "accuracy = 44 / 46\n",
      "Time # 16\n",
      "Pick up a vip: 1590140040664, cluster = 0\n",
      "accuracy = 44 / 46\n",
      "Time # 17\n",
      "Pick up a vip: 1595150774820, cluster = 0\n",
      "accuracy = 50 / 51\n",
      "Time # 18\n",
      "Pick up a vip: 1595160221505, cluster = 0\n",
      "accuracy = 50 / 51\n",
      "Time # 19\n",
      "Pick up a vip: 1595151110818, cluster = 0\n",
      "accuracy = 30 / 31\n",
      "Time # 20\n",
      "Pick up a vip: 1592131144832, cluster = 0\n",
      "accuracy = 24 / 25\n",
      "Time # 21\n",
      "Pick up a vip: 2900002526363, cluster = 0\n",
      "accuracy = 50 / 51\n",
      "Time # 22\n",
      "Pick up a vip: 1592140505983, cluster = 0\n",
      "accuracy = 47 / 48\n",
      "Time # 23\n",
      "Pick up a vip: 6222021615006712446, cluster = 0\n",
      "accuracy = 35 / 36\n",
      "Time # 24\n",
      "Pick up a vip: 1591015100674, cluster = 0\n",
      "accuracy = 24 / 25\n",
      "Time # 25\n",
      "Pick up a vip: 2900000908079, cluster = 0\n",
      "accuracy = 44 / 46\n",
      "Time # 26\n",
      "Pick up a vip: 1590150976113, cluster = 0\n",
      "accuracy = 50 / 51\n",
      "Time # 27\n",
      "Pick up a vip: 1596140628703, cluster = 0\n",
      "accuracy = 38 / 39\n",
      "Time # 28\n",
      "Pick up a vip: 1590142182775, cluster = 0\n",
      "accuracy = 50 / 51\n",
      "Time # 29\n",
      "Pick up a vip: 2900002934236, cluster = 0\n",
      "accuracy = 50 / 51\n",
      "Time # 30\n",
      "Pick up a vip: 2900000394193, cluster = 0\n",
      "accuracy = 38 / 39\n",
      "Time # 31\n",
      "Pick up a vip: 1591013942801, cluster = 0\n",
      "accuracy = 35 / 36\n",
      "Time # 32\n",
      "Pick up a vip: 1590142190480, cluster = 0\n",
      "accuracy = 30 / 31\n",
      "Time # 33\n",
      "Pick up a vip: 2900000765085, cluster = 0\n",
      "accuracy = 38 / 39\n",
      "Time # 34\n",
      "Pick up a vip: 1592015013285, cluster = 0\n",
      "accuracy = 30 / 31\n",
      "Time # 35\n",
      "Pick up a vip: 1591015088262, cluster = 0\n",
      "accuracy = 35 / 36\n",
      "Time # 36\n",
      "Pick up a vip: 1595151575662, cluster = 0\n",
      "accuracy = 44 / 46\n",
      "Time # 37\n",
      "Pick up a vip: 2900003108773, cluster = 0\n",
      "accuracy = 47 / 48\n",
      "Time # 38\n",
      "Pick up a vip: 1591150401421, cluster = 0\n",
      "accuracy = 44 / 46\n",
      "Time # 39\n",
      "Pick up a vip: 1590142125499, cluster = 0\n",
      "accuracy = 50 / 51\n",
      "Time # 40\n",
      "Pick up a vip: 2900000203457, cluster = 0\n",
      "accuracy = 50 / 51\n",
      "Time # 41\n",
      "Pick up a vip: 1590151534688, cluster = 0\n",
      "accuracy = 38 / 39\n",
      "Time # 42\n",
      "Pick up a vip: 2900000587649, cluster = 0\n",
      "accuracy = 50 / 51\n",
      "Time # 43\n",
      "Pick up a vip: 1591012723487, cluster = 0\n",
      "accuracy = 24 / 25\n",
      "Time # 44\n",
      "Pick up a vip: 1591015596521, cluster = 0\n",
      "accuracy = 35 / 36\n",
      "Time # 45\n",
      "Pick up a vip: 1591016495014, cluster = 0\n",
      "accuracy = 44 / 46\n",
      "Time # 46\n",
      "Pick up a vip: 1590142516563, cluster = 0\n",
      "accuracy = 35 / 36\n",
      "Time # 47\n",
      "Pick up a vip: 1590142188470, cluster = 0\n",
      "accuracy = 44 / 46\n",
      "Time # 48\n",
      "Pick up a vip: 1590142517867, cluster = 0\n",
      "accuracy = 38 / 39\n",
      "Time # 49\n",
      "Pick up a vip: 2900002934557, cluster = 0\n",
      "accuracy = 47 / 48\n",
      "Time # 50\n",
      "Pick up a vip: 1590140606433, cluster = 0\n",
      "accuracy = 35 / 36\n",
      "The total average accuracy is = 0.9712556359063204\n"
     ]
    }
   ],
   "source": [
    "correctness = 0\n",
    "times = 50\n",
    "for i in range(times):\n",
    "    print(\"Time #\", i+1)\n",
    "    try:\n",
    "        correctness += lsh_test()\n",
    "    except Exception as e:\n",
    "        continue\n",
    "print(\"The total average accuracy is =\", correctness / times)"
   ]
  },
  {
   "cell_type": "code",
   "execution_count": null,
   "metadata": {},
   "outputs": [],
   "source": []
  },
  {
   "cell_type": "code",
   "execution_count": null,
   "metadata": {},
   "outputs": [],
   "source": []
  }
 ],
 "metadata": {
  "kernelspec": {
   "display_name": "Python3(venv)",
   "language": "python",
   "name": "venv"
  },
  "language_info": {
   "codemirror_mode": {
    "name": "ipython",
    "version": 3
   },
   "file_extension": ".py",
   "mimetype": "text/x-python",
   "name": "python",
   "nbconvert_exporter": "python",
   "pygments_lexer": "ipython3",
   "version": "3.6.2"
  }
 },
 "nbformat": 4,
 "nbformat_minor": 2
}
