{
 "cells": [
  {
   "cell_type": "markdown",
   "metadata": {},
   "source": [
    "# Import packages and Pre-define func"
   ]
  },
  {
   "cell_type": "code",
   "execution_count": 1,
   "metadata": {},
   "outputs": [],
   "source": [
    "import csv\n",
    "import numpy as np\n",
    "import pandas as pd\n",
    "import pip\n",
    "\n",
    "def pip_install(module):\n",
    "    pip.main(['install', module])\n",
    "\n",
    "# pip_install('scipy')\n",
    "# pip_install('matplotlib')"
   ]
  },
  {
   "cell_type": "code",
   "execution_count": 2,
   "metadata": {},
   "outputs": [],
   "source": [
    "def prepare_data():\n",
    "    raw_data = pd.read_csv('../../data/trade.csv')\n",
    "    # count the number of vipno and pluno\n",
    "    vip_set = set(raw_data.vipno)\n",
    "    n_vip = len(vip_set)\n",
    "    plu_set = set(raw_data.pluno)\n",
    "    n_plu = len(plu_set)\n",
    "    \n",
    "    # construct the data matrix of the trade\n",
    "    vipno = list(vip_set)\n",
    "    pluno = list(plu_set)\n",
    "    trade_mat = pd.DataFrame(np.zeros([n_plu, n_vip]), index=pluno, columns=vipno)\n",
    "    l = len(raw_data)\n",
    "    for i in range(l):\n",
    "        p = raw_data.loc[i, 'pluno']\n",
    "        v = raw_data.loc[i, 'vipno']\n",
    "        a = raw_data.loc[i, 'amt']\n",
    "        trade_mat.at[p, v] += a\n",
    "        \n",
    "    # apply round\n",
    "    trade_mat.apply(np.round)\n",
    "    trade_mat = trade_mat.astype('int64') # it depends\n",
    "    return trade_mat, vipno, pluno, n_vip, n_plu"
   ]
  },
  {
   "cell_type": "markdown",
   "metadata": {},
   "source": [
    "# Plot silhouette function"
   ]
  },
  {
   "cell_type": "code",
   "execution_count": 3,
   "metadata": {},
   "outputs": [],
   "source": [
    "from sklearn.cluster import KMeans\n",
    "from sklearn.metrics import silhouette_samples, silhouette_score\n",
    "from sklearn.decomposition import PCA\n",
    "\n",
    "import matplotlib.pyplot as plt\n",
    "import numpy as np\n",
    "\n",
    "def clustering(n_clusters, X):\n",
    "# Create a subplot with 1 row and 2 columns\n",
    "    colors = plt.cm.Spectral(np.linspace(0, 1, n_clusters))\n",
    "    fig, (ax1, ax2) = plt.subplots(1, 2)\n",
    "    fig.set_size_inches(18, 7)\n",
    "    # The 1st subplot is the silhouette plot\n",
    "    # The silhouette coefficient can range from -1, 1 but in this example all\n",
    "    # lie within [-0.1, 1]\n",
    "    ax1.set_xlim([-0.1, 1])\n",
    "    # The (n_clusters+1)*10 is for inserting blank space between silhouette\n",
    "    # plots of individual clusters, to demarcate them clearly.\n",
    "    ax1.set_ylim([0, len(X) + (n_clusters + 1) * 10])\n",
    "    # Initialize the clusterer with n_clusters value and a random generator\n",
    "    # seed of 10 for reproducibility.\n",
    "    clusterer = KMeans(n_clusters=n_clusters, random_state=10)\n",
    "    cluster_labels = clusterer.fit_predict(X)\n",
    "    # The silhouette_score gives the average value for all the samples.\n",
    "    # This gives a perspective into the density and separation of the formed\n",
    "    # clusters\n",
    "    silhouette_avg = silhouette_score(X, cluster_labels)\n",
    "    print(\"For n_clusters =\", n_clusters,\n",
    "          \"The average silhouette_score is :\", silhouette_avg)\n",
    "    # Compute the silhouette scores for each sample\n",
    "    sample_silhouette_values = silhouette_samples(X, cluster_labels)\n",
    "    y_lower = 10\n",
    "    for i in range(n_clusters):\n",
    "        # Aggregate the silhouette scores for samples belonging to\n",
    "        # cluster i, and sort them\n",
    "        ith_cluster_silhouette_values = \\\n",
    "            sample_silhouette_values[cluster_labels == i]\n",
    "        ith_cluster_silhouette_values.sort()\n",
    "        size_cluster_i = ith_cluster_silhouette_values.shape[0]\n",
    "        y_upper = y_lower + size_cluster_i\n",
    "        color = colors[i]\n",
    "        ax1.fill_betweenx(np.arange(y_lower, y_upper),\n",
    "                          0, ith_cluster_silhouette_values,\n",
    "                          facecolor=color, edgecolor=color, alpha=0.7)\n",
    "        # Label the silhouette plots with their cluster numbers at the middle\n",
    "        ax1.text(-0.05, y_lower + 0.5 * size_cluster_i, str(i))\n",
    "        # Compute the new y_lower for next plot\n",
    "        y_lower = y_upper + 10  # 10 for the 0 samples\n",
    "\n",
    "    ax1.set_title(\"The silhouette plot for the various clusters.\")\n",
    "    ax1.set_xlabel(\"The silhouette coefficient values\")\n",
    "    ax1.set_ylabel(\"Cluster label\")\n",
    "\n",
    "    # The vertical line for average silhouette score of all the values\n",
    "    ax1.axvline(x=silhouette_avg, color=\"red\", linestyle=\"--\")\n",
    "    ax1.set_yticks([])  # Clear the yaxis labels / ticks\n",
    "    ax1.set_xticks([-0.1, 0, 0.2, 0.4, 0.6, 0.8, 1])\n",
    "\n",
    "    new_X = PCA(n_components=2, whiten=True).fit_transform(X)\n",
    "    ax2.scatter(new_X[:, 0], new_X[:, 1], marker='.', s=30, lw=0, alpha=0.7,\n",
    "                c=colors, edgecolor='k')\n",
    "\n",
    "    centers = clusterer.cluster_centers_\n",
    "    ax2.scatter(centers[:, 0], centers[:, 1], marker='o',\n",
    "                c=\"white\", alpha=1, s=200, edgecolor='k')\n",
    "\n",
    "    for i, c in enumerate(centers):\n",
    "        ax2.scatter(c[0], c[1], marker='$%d$' % i, alpha=1,\n",
    "                    s=50, edgecolor='k')\n",
    "\n",
    "    ax2.set_title(\"The visualization of the clustered data.\")\n",
    "    ax2.set_xlabel(\"Feature space for the 1st feature\")\n",
    "    ax2.set_ylabel(\"Feature space for the 2nd feature\")\n",
    "    plt.suptitle((\"Silhouette analysis for KMeans clustering on sample data \"\n",
    "                  \"with n_clusters = %d\" % n_clusters),\n",
    "                 fontsize=14, fontweight='bold')\n",
    "    plt.show()"
   ]
  },
  {
   "cell_type": "code",
   "execution_count": 5,
   "metadata": {},
   "outputs": [
    {
     "name": "stdout",
     "output_type": "stream",
     "text": [
      "vip numer = 298\n"
     ]
    }
   ],
   "source": [
    "# get the data for clustering\n",
    "from sklearn.preprocessing import StandardScaler\n",
    "\n",
    "trade_mat, vipno, pluno, n_vip, n_plu = prepare_data()\n",
    "X = trade_mat.values\n",
    "X = X.transpose()\n",
    "# standarize\n",
    "# scaler = StandardScaler()\n",
    "# X = scaler.fit_transform(X)\n",
    "print(\"vip numer =\", len(X))"
   ]
  },
  {
   "cell_type": "code",
   "execution_count": 10,
   "metadata": {
    "scrolled": true
   },
   "outputs": [
    {
     "name": "stdout",
     "output_type": "stream",
     "text": [
      "Start analysis on silhouette value...\n",
      "For n_clusters = 12 The average silhouette_score is : 0.359326340546279\n"
     ]
    },
    {
     "data": {
      "image/png": "[encoded data removed]",
      "text/plain": [
       "<Figure size 1296x504 with 2 Axes>"
      ]
     },
     "metadata": {},
     "output_type": "display_data"
    }
   ],
   "source": [
    "# plot the silhouette analysis results\n",
    "print(\"Start analysis on silhouette value...\")\n",
    "n_cluster = int(np.sqrt(n_vip/2))\n",
    "clustering(n_cluster, X)\n",
    "\n",
    "# Tuning parameters, it is proved that the effect of clustering is not that good\n",
    "# n_cluster = int(np.sqrt(n_vip/2))\n",
    "# for k in range(2, n_cluster):\n",
    "#     clustering(k, X)\n",
    "\n",
    "# n_cluster = int(np.sqrt(n_vip/2))\n",
    "# for k in range(n_cluster, 2*n_cluster):\n",
    "#     clustering(k, X)"
   ]
  },
  {
   "cell_type": "markdown",
   "metadata": {},
   "source": [
    "# (a) Silhouette coefficient - k cluster plot"
   ]
  },
  {
   "cell_type": "code",
   "execution_count": 7,
   "metadata": {},
   "outputs": [],
   "source": [
    "from scipy.interpolate import interp1d\n",
    "\n",
    "def cluster_eva(X, n_clusters):\n",
    "    clusterer = KMeans(n_clusters=n_clusters, random_state=10)\n",
    "    cluster_labels = clusterer.fit_predict(X)\n",
    "\n",
    "    silhouette_avg = silhouette_score(X, cluster_labels)\n",
    "    print(\"For n_clusters =\", n_clusters,\n",
    "          \"The average silhouette_score is :\", silhouette_avg)\n",
    "    return silhouette_avg, cluster_labels"
   ]
  },
  {
   "cell_type": "code",
   "execution_count": 8,
   "metadata": {},
   "outputs": [
    {
     "name": "stdout",
     "output_type": "stream",
     "text": [
      "The init value of n_cluster is 12\n",
      "For n_clusters = 2 The average silhouette_score is : 0.941061685106038\n",
      "For n_clusters = 3 The average silhouette_score is : 0.8632761084181174\n",
      "For n_clusters = 4 The average silhouette_score is : 0.3107168633161139\n",
      "For n_clusters = 5 The average silhouette_score is : 0.7797676692594403\n",
      "For n_clusters = 6 The average silhouette_score is : 0.6329520193123459\n",
      "For n_clusters = 7 The average silhouette_score is : 0.5900157269241005\n",
      "For n_clusters = 8 The average silhouette_score is : 0.25374883940450665\n",
      "For n_clusters = 9 The average silhouette_score is : 0.3730460226753575\n",
      "For n_clusters = 10 The average silhouette_score is : 0.3732203751898072\n",
      "For n_clusters = 11 The average silhouette_score is : 0.2975942336546988\n",
      "For n_clusters = 12 The average silhouette_score is : 0.359326340546279\n",
      "For n_clusters = 13 The average silhouette_score is : 0.361458361618785\n",
      "For n_clusters = 14 The average silhouette_score is : 0.36249675469689774\n",
      "For n_clusters = 15 The average silhouette_score is : 0.07282333424904265\n",
      "For n_clusters = 16 The average silhouette_score is : 0.3519269609932375\n",
      "For n_clusters = 17 The average silhouette_score is : 0.35407978043742494\n",
      "For n_clusters = 18 The average silhouette_score is : 0.2869039160518293\n",
      "For n_clusters = 19 The average silhouette_score is : 0.14290727569140113\n",
      "For n_clusters = 20 The average silhouette_score is : 0.3037254800185679\n",
      "For n_clusters = 21 The average silhouette_score is : 0.21106071235452145\n",
      "For n_clusters = 22 The average silhouette_score is : 0.21955783403070017\n",
      "For n_clusters = 23 The average silhouette_score is : 0.1748762034000907\n"
     ]
    }
   ],
   "source": [
    "k = n_cluster = int(np.sqrt(n_vip/2))\n",
    "print(\"The init value of n_cluster is {}\".format(k))\n",
    "\n",
    "ks = []\n",
    "y = []\n",
    "labels = []\n",
    "for i in range(2,2*k):\n",
    "    ks.append(i)\n",
    "    sil_avg, cluster_labels = cluster_eva(X, i)\n",
    "    y.append(sil_avg)\n",
    "    labels.append(cluster_labels)"
   ]
  },
  {
   "cell_type": "code",
   "execution_count": 9,
   "metadata": {},
   "outputs": [
    {
     "data": {
      "image/png": "[encoded data removed]",
      "text/plain": [
       "<Figure size 432x288 with 1 Axes>"
      ]
     },
     "metadata": {},
     "output_type": "display_data"
    }
   ],
   "source": [
    "f = interp1d(ks, y)\n",
    "\n",
    "xnew = ks.copy()\n",
    "plt.plot(ks, y, 'o', xnew, f(xnew), '-')\n",
    "plt.legend(['data', 'linear'], loc='best')\n",
    "plt.title(\"The Silhouette-k plot\")\n",
    "plt.xlabel(\"K\")\n",
    "plt.ylabel(\"average silhouette_score\")\n",
    "plt.show()"
   ]
  },
  {
   "cell_type": "markdown",
   "metadata": {},
   "source": [
    "# (b) Test with LSH"
   ]
  },
  {
   "cell_type": "code",
   "execution_count": 11,
   "metadata": {},
   "outputs": [
    {
     "name": "stdout",
     "output_type": "stream",
     "text": [
      "Start test with lshash...\n"
     ]
    }
   ],
   "source": [
    "from lshash.lshash import LSHash\n",
    "\n",
    "print(\"Start test with lshash...\")\n",
    "e = 0.01\n",
    "lsh = LSHash(round(n_vip * e), n_plu)\n",
    "for v in vipno:\n",
    "    feature = list(trade_mat[v])\n",
    "    lsh.index(feature, extra_data=v)"
   ]
  },
  {
   "cell_type": "code",
   "execution_count": 21,
   "metadata": {},
   "outputs": [],
   "source": [
    "import random\n",
    "\n",
    "k = 6\n",
    "\n",
    "def lsh_test():\n",
    "    correct = 0\n",
    "    # pick up a random vipno\n",
    "    pick_vip = random.randint(0, n_vip)\n",
    "    cluster_label = labels[k]\n",
    "    pick_vipno = vipno[pick_vip]\n",
    "    cluster1 = cluster_label[pick_vip]\n",
    "    print(\"Pick up a vip: {0}, cluster = {1}\".format(pick_vipno, cluster1))\n",
    "\n",
    "    # lsh query and write the results\n",
    "    candi = lsh.query(list(trade_mat[pick_vipno]))\n",
    "    l = len(candi)\n",
    "    for i, item in enumerate(candi[1:]):\n",
    "        dist = item[1]\n",
    "        feature = list(item[0][0])\n",
    "        v = item[0][1]\n",
    "        lsh_pair_no = vipno.index(v)\n",
    "        cluster2 = cluster_label[lsh_pair_no]\n",
    "#         print(\"for vip {0}: distance = {1}, cluster = {2}\".format(v, dist, cluster2))\n",
    "        if cluster2 == cluster1:\n",
    "            correct += 1\n",
    "    print(\"accuracy =\", correct, '/', l)\n",
    "    return correct/float(l)"
   ]
  },
  {
   "cell_type": "code",
   "execution_count": 26,
   "metadata": {},
   "outputs": [
    {
     "name": "stdout",
     "output_type": "stream",
     "text": [
      "Time # 1\n",
      "Pick up a vip: 2900001538596, cluster = 2\n",
      "accuracy = 25 / 29\n",
      "Time # 2\n",
      "Pick up a vip: 1591140691788, cluster = 2\n",
      "accuracy = 32 / 33\n",
      "Time # 3\n",
      "Pick up a vip: 1595150071417, cluster = 2\n",
      "accuracy = 34 / 35\n",
      "Time # 4\n",
      "Pick up a vip: 1590142516563, cluster = 2\n",
      "accuracy = 29 / 31\n",
      "Time # 5\n",
      "Pick up a vip: 2900000208902, cluster = 2\n",
      "accuracy = 25 / 29\n",
      "Time # 6\n",
      "Pick up a vip: 1591014097494, cluster = 2\n",
      "accuracy = 23 / 25\n",
      "Time # 7\n",
      "Pick up a vip: 2900001465960, cluster = 2\n",
      "accuracy = 59 / 69\n",
      "Time # 8\n",
      "Pick up a vip: 1591016561351, cluster = 2\n",
      "accuracy = 23 / 25\n",
      "Time # 9\n",
      "Pick up a vip: 1590151300269, cluster = 2\n",
      "accuracy = 23 / 25\n",
      "Time # 10\n",
      "Pick up a vip: 2900002932416, cluster = 2\n",
      "accuracy = 34 / 35\n",
      "Time # 11\n",
      "Pick up a vip: 2900002932416, cluster = 2\n",
      "accuracy = 34 / 35\n",
      "Time # 12\n",
      "Pick up a vip: 1592015013285, cluster = 2\n",
      "accuracy = 44 / 49\n",
      "Time # 13\n",
      "Pick up a vip: 1590142434362, cluster = 2\n",
      "accuracy = 26 / 27\n",
      "Time # 14\n",
      "Pick up a vip: 2900003122434, cluster = 2\n",
      "accuracy = 29 / 31\n",
      "Time # 15\n",
      "Pick up a vip: 1595151630507, cluster = 2\n",
      "accuracy = 59 / 69\n",
      "Time # 16\n",
      "Pick up a vip: 1590140305015, cluster = 2\n",
      "accuracy = 32 / 33\n",
      "Time # 17\n",
      "Pick up a vip: 1590160765875, cluster = 2\n",
      "accuracy = 59 / 69\n",
      "Time # 18\n",
      "Pick up a vip: 1591015459208, cluster = 2\n",
      "accuracy = 32 / 33\n",
      "Time # 19\n",
      "Pick up a vip: 1595150774820, cluster = 2\n",
      "accuracy = 59 / 69\n",
      "Time # 20\n",
      "Pick up a vip: 1591011326672, cluster = 2\n",
      "accuracy = 29 / 31\n",
      "Time # 21\n",
      "Pick up a vip: 18678696982, cluster = 2\n",
      "accuracy = 59 / 69\n",
      "Time # 22\n",
      "Pick up a vip: 1595132684185, cluster = 2\n",
      "accuracy = 44 / 49\n",
      "Time # 23\n",
      "Pick up a vip: 1590142517799, cluster = 2\n",
      "accuracy = 59 / 69\n",
      "Time # 24\n",
      "Pick up a vip: 1595151786686, cluster = 2\n",
      "accuracy = 32 / 33\n",
      "Time # 25\n",
      "Pick up a vip: 1590151207971, cluster = 2\n",
      "accuracy = 23 / 25\n",
      "Time # 26\n",
      "Pick up a vip: 2900001052078, cluster = 2\n",
      "accuracy = 26 / 27\n",
      "Time # 27\n",
      "Pick up a vip: 1590142143233, cluster = 2\n",
      "accuracy = 59 / 69\n",
      "Time # 28\n",
      "Pick up a vip: 1591013884927, cluster = 2\n",
      "accuracy = 34 / 35\n",
      "Time # 29\n",
      "Pick up a vip: 1595150991142, cluster = 2\n",
      "accuracy = 32 / 33\n",
      "Time # 30\n",
      "Pick up a vip: 1590140611314, cluster = 2\n",
      "accuracy = 59 / 69\n",
      "Time # 31\n",
      "Pick up a vip: 1593141371140, cluster = 4\n",
      "accuracy = 5 / 69\n",
      "Time # 32\n",
      "Pick up a vip: 2900001418706, cluster = 2\n",
      "accuracy = 44 / 49\n",
      "Time # 33\n",
      "Pick up a vip: 2900003115917, cluster = 2\n",
      "accuracy = 44 / 49\n",
      "Time # 34\n",
      "Pick up a vip: 1590142224192, cluster = 2\n",
      "accuracy = 34 / 35\n",
      "Time # 35\n",
      "Pick up a vip: 1591013442134, cluster = 2\n",
      "accuracy = 29 / 31\n",
      "Time # 36\n",
      "Pick up a vip: 1595151786686, cluster = 2\n",
      "accuracy = 32 / 33\n",
      "Time # 37\n",
      "Pick up a vip: 2900000986893, cluster = 2\n",
      "accuracy = 29 / 31\n",
      "Time # 38\n",
      "Pick up a vip: 2900001465816, cluster = 2\n",
      "accuracy = 59 / 69\n",
      "Time # 39\n",
      "Pick up a vip: 2900001665032, cluster = 2\n",
      "accuracy = 44 / 49\n",
      "Time # 40\n",
      "Pick up a vip: 1590142205832, cluster = 2\n",
      "accuracy = 32 / 33\n",
      "Time # 41\n",
      "Pick up a vip: 2900003122434, cluster = 2\n",
      "accuracy = 29 / 31\n",
      "Time # 42\n",
      "Pick up a vip: 2900000330863, cluster = 7\n",
      "accuracy = 0 / 49\n",
      "Time # 43\n",
      "Pick up a vip: 2900000224278, cluster = 2\n",
      "accuracy = 26 / 27\n",
      "Time # 44\n",
      "Pick up a vip: 2900000903944, cluster = 2\n",
      "accuracy = 25 / 29\n",
      "Time # 45\n",
      "Pick up a vip: 1591030325571, cluster = 2\n",
      "accuracy = 44 / 49\n",
      "Time # 46\n",
      "Pick up a vip: 1590142242875, cluster = 2\n",
      "accuracy = 44 / 49\n",
      "Time # 47\n",
      "Pick up a vip: 1596160013077, cluster = 2\n",
      "accuracy = 23 / 25\n",
      "Time # 48\n",
      "Pick up a vip: 1592131144832, cluster = 2\n",
      "accuracy = 23 / 25\n",
      "Time # 49\n",
      "Pick up a vip: 2900000194298, cluster = 2\n",
      "accuracy = 44 / 49\n",
      "Time # 50\n",
      "Pick up a vip: 1592140891222, cluster = 2\n",
      "accuracy = 29 / 31\n",
      "The total average accuracy is = 0.882805878773064\n"
     ]
    }
   ],
   "source": [
    "correctness = 0\n",
    "times = 50\n",
    "for i in range(times):\n",
    "    print(\"Time #\", i+1)\n",
    "    correctness += lsh_test()\n",
    "print(\"The total average accuracy is =\", correctness / times)"
   ]
  },
  {
   "cell_type": "code",
   "execution_count": null,
   "metadata": {},
   "outputs": [],
   "source": []
  }
 ],
 "metadata": {
  "kernelspec": {
   "display_name": "Python3(venv)",
   "language": "python",
   "name": "venv"
  },
  "language_info": {
   "codemirror_mode": {
    "name": "ipython",
    "version": 3
   },
   "file_extension": ".py",
   "mimetype": "text/x-python",
   "name": "python",
   "nbconvert_exporter": "python",
   "pygments_lexer": "ipython3",
   "version": "3.6.2"
  }
 },
 "nbformat": 4,
 "nbformat_minor": 2
}
