{
 "cells": [
  {
   "cell_type": "markdown",
   "metadata": {},
   "source": [
    "# Import packages and Pre-define func"
   ]
  },
  {
   "cell_type": "code",
   "execution_count": 1,
   "metadata": {},
   "outputs": [],
   "source": [
    "import csv\n",
    "import numpy as np\n",
    "import pandas as pd\n",
    "import pip\n",
    "import matplotlib.pyplot as plt\n",
    "import numpy as np\n",
    "\n",
    "def pip_install(module):\n",
    "    pip.main(['install', module])\n",
    "\n",
    "# pip_install('scipy')\n",
    "# pip_install('matplotlib')"
   ]
  },
  {
   "cell_type": "code",
   "execution_count": 2,
   "metadata": {},
   "outputs": [],
   "source": [
    "def prepare_data():\n",
    "    raw_data = pd.read_csv('../../data/trade.csv')\n",
    "    # count the number of vipno and pluno\n",
    "    vip_set = set(raw_data.vipno)\n",
    "    n_vip = len(vip_set)\n",
    "    plu_set = set(raw_data.pluno)\n",
    "    n_plu = len(plu_set)\n",
    "    \n",
    "    # construct the data matrix of the trade\n",
    "    vipno = list(vip_set)\n",
    "    pluno = list(plu_set)\n",
    "    trade_mat = pd.DataFrame(np.zeros([n_plu, n_vip]), index=pluno, columns=vipno)\n",
    "    l = len(raw_data)\n",
    "    for i in range(l):\n",
    "        p = raw_data.loc[i, 'pluno']\n",
    "        v = raw_data.loc[i, 'vipno']\n",
    "        a = raw_data.loc[i, 'amt']\n",
    "        trade_mat.at[p, v] += a\n",
    "        \n",
    "    # apply round\n",
    "    trade_mat.apply(np.round)\n",
    "    trade_mat = trade_mat.astype('int64') # it depends\n",
    "    return trade_mat, vipno, pluno, n_vip, n_plu"
   ]
  },
  {
   "cell_type": "markdown",
   "metadata": {},
   "source": [
    "# Clustering"
   ]
  },
  {
   "cell_type": "code",
   "execution_count": 4,
   "metadata": {},
   "outputs": [
    {
     "name": "stderr",
     "output_type": "stream",
     "text": [
      "/Users/jiangyukai/Developer/DataMing-HW/venv/lib/python3.6/site-packages/sklearn/utils/validation.py:475: DataConversionWarning: Data with input dtype int64 was converted to float64 by StandardScaler.\n",
      "  warnings.warn(msg, DataConversionWarning)\n"
     ]
    }
   ],
   "source": [
    "# get the data for clustering\n",
    "from sklearn.preprocessing import StandardScaler\n",
    "\n",
    "trade_mat, vipno, pluno, n_vip, n_plu = prepare_data()\n",
    "X = trade_mat.values\n",
    "X = X.transpose()\n",
    "# standarize\n",
    "scaler = StandardScaler()\n",
    "X = scaler.fit_transform(X)\n",
    "# print(len(X))"
   ]
  },
  {
   "cell_type": "markdown",
   "metadata": {},
   "source": [
    "# Silhouette coefficient - k cluster plot"
   ]
  },
  {
   "cell_type": "code",
   "execution_count": 5,
   "metadata": {},
   "outputs": [],
   "source": [
    "from scipy.interpolate import interp1d\n",
    "from sklearn.mixture import GaussianMixture\n",
    "from sklearn.metrics import silhouette_score\n",
    "\n",
    "def cluster_eva(X, k):\n",
    "    estimator = GaussianMixture(n_components=k, covariance_type='tied', max_iter=20, random_state=0)\n",
    "    estimator.fit(X)\n",
    "    cluster_labels = estimator.predict(X)\n",
    "    cluster_num = len(set(cluster_labels))\n",
    "    \n",
    "    silhouette_avg = silhouette_score(X, cluster_labels)\n",
    "    print(\"For n_components =\", k,\n",
    "          \"The average silhouette_score is :\", silhouette_avg)\n",
    "    print(\"cluster number =\", cluster_num)\n",
    "    return silhouette_avg, cluster_labels"
   ]
  },
  {
   "cell_type": "code",
   "execution_count": 6,
   "metadata": {},
   "outputs": [
    {
     "name": "stdout",
     "output_type": "stream",
     "text": [
      "For n_components = 2 The average silhouette_score is : 0.24586554027341234\n",
      "cluster number = 2\n",
      "For n_components = 3 The average silhouette_score is : 0.24802369177453215\n",
      "cluster number = 3\n",
      "For n_components = 4 The average silhouette_score is : 0.2502812416466154\n",
      "cluster number = 4\n",
      "For n_components = 5 The average silhouette_score is : 0.25086962650930794\n",
      "cluster number = 5\n",
      "For n_components = 6 The average silhouette_score is : 0.2521480135564458\n",
      "cluster number = 6\n",
      "For n_components = 7 The average silhouette_score is : 0.2525749228330828\n",
      "cluster number = 7\n",
      "For n_components = 8 The average silhouette_score is : -0.2168357636354869\n",
      "cluster number = 8\n",
      "For n_components = 9 The average silhouette_score is : -0.21435192934552222\n",
      "cluster number = 9\n",
      "For n_components = 10 The average silhouette_score is : -0.21352982257980002\n",
      "cluster number = 10\n",
      "For n_components = 11 The average silhouette_score is : -0.2123280534320084\n",
      "cluster number = 11\n"
     ]
    }
   ],
   "source": [
    "ks = []\n",
    "y = []\n",
    "labels = []\n",
    "for k in range(2, 12):\n",
    "    ks.append(k)\n",
    "    sil_avg, cluster_labels = cluster_eva(X, k)\n",
    "    y.append(sil_avg)\n",
    "    labels.append(cluster_labels)"
   ]
  },
  {
   "cell_type": "code",
   "execution_count": 16,
   "metadata": {},
   "outputs": [
    {
     "name": "stdout",
     "output_type": "stream",
     "text": [
      "11 0 11\n",
      "11\n"
     ]
    }
   ],
   "source": [
    "# print(len(labels), len(ks), len(y))\n",
    "# ks = []\n",
    "# for k in range(2,13):\n",
    "#     ks.append(k)\n",
    "# print(len(ks))"
   ]
  },
  {
   "cell_type": "code",
   "execution_count": 7,
   "metadata": {},
   "outputs": [
    {
     "data": {
      "image/png": "[encoded data removed]",
      "text/plain": [
       "<Figure size 432x288 with 1 Axes>"
      ]
     },
     "metadata": {},
     "output_type": "display_data"
    }
   ],
   "source": [
    "f = interp1d(ks, y)\n",
    "\n",
    "xnew = ks.copy()\n",
    "plt.plot(ks, y, 'o', xnew, f(xnew), '-')\n",
    "plt.legend(['data', 'linear'], loc='best')\n",
    "plt.xlabel(\"n_components\")\n",
    "plt.ylabel(\"The average silhouette_score\")\n",
    "plt.title(\"The Silhouette-n plot\")\n",
    "plt.show()"
   ]
  },
  {
   "cell_type": "code",
   "execution_count": 29,
   "metadata": {},
   "outputs": [
    {
     "name": "stdout",
     "output_type": "stream",
     "text": [
      "[6 6 6 6 6 6 6 6 6 6 6 6 6 6 6 6 6 6 6 6 6 6 6 6 6 6 6 6 6 6 6 6 6 6 6 6 6\n",
      " 6 6 6 6 6 6 6 6 9 6 6 6 6 6 6 6 6 6 6 6 6 6 6 8 6 6 6 6 6 6 6 6 6 6 6 6 6\n",
      " 6 6 6 6 6 6 6 6 6 6 6 6 6 6 6 6 6 6 6 6 6 6 6 6 6 6 6 6 6 6 6 6 4 6 6 6 6\n",
      " 6 6 6 6 2 6 6 6 6 6 6 6 6 6 6 6 6 6 6 6 6 6 6 6 6 6 6 6 3 6 6 6 6 6 6 6 6\n",
      " 6 6 6 6 6 6 6 6 6 7 6 6 6 6 6 6 6 6 6 6 6 6 6 6 0 6 6 6 6 6 6 6 6 6 6 6 6\n",
      " 6 6 6 6 6 6 6 6 6 6 6 6 6 6 6 6 6 6 6 6 6 6 6 6 6 6 6 6 6 6 6 6 6 6 6 6 6\n",
      " 6 6 6 6 6 6 6 6 6 6 6 6 6 6 6 6 6 6 6 6 6 6 6 6 6 1 6 6 6 6 5 6 6 6 6 6 6\n",
      " 6 6 6 6 6 6 6 6 6 6 6 6 6 6 6 6 6 6 6 6 6 6 6 6 6 6 6 6 6 6 6 6 6 6 6 6 6\n",
      " 6 6]\n"
     ]
    }
   ],
   "source": [
    "# print(labels[8])"
   ]
  },
  {
   "cell_type": "markdown",
   "metadata": {},
   "source": [
    "# (a) Compare with KMeans"
   ]
  },
  {
   "cell_type": "code",
   "execution_count": 8,
   "metadata": {},
   "outputs": [],
   "source": [
    "from sklearn.cluster import KMeans\n",
    "\n",
    "kmeans = KMeans(n_clusters=2, random_state=10)\n",
    "y_kmeans = kmeans.fit_predict(X)\n",
    "y_GMM = labels[ks.index(2)]"
   ]
  },
  {
   "cell_type": "code",
   "execution_count": 17,
   "metadata": {},
   "outputs": [
    {
     "name": "stdout",
     "output_type": "stream",
     "text": [
      "The accuracy for KMeans =  0.9932885906040269\n"
     ]
    }
   ],
   "source": [
    "# since there are only 2 clusters, I just make a simple comparison\n",
    "corr = 0\n",
    "for i, y1 in enumerate(y_kmeans):\n",
    "    if y1 == y_GMM[i]:\n",
    "        corr += 1\n",
    "print(\"The accuracy for KMeans = \", corr / float(len(y_kmeans)))"
   ]
  },
  {
   "cell_type": "markdown",
   "metadata": {},
   "source": [
    "# (b) Compare with DBSCAN"
   ]
  },
  {
   "cell_type": "code",
   "execution_count": 18,
   "metadata": {},
   "outputs": [],
   "source": [
    "from sklearn.cluster import DBSCAN\n",
    "\n",
    "y_DBSCAN = DBSCAN(eps=130, min_samples=20).fit_predict(X)\n",
    "cluster_num = len(set(y_DBSCAN))\n",
    "\n",
    "y_GMM = labels[ks.index(cluster_num)]\n",
    "# print(y_GMM)"
   ]
  },
  {
   "cell_type": "code",
   "execution_count": 19,
   "metadata": {},
   "outputs": [
    {
     "name": "stdout",
     "output_type": "stream",
     "text": [
      "The accuracy for DBSCAN =  0.9932885906040269\n"
     ]
    }
   ],
   "source": [
    "y_DBSCAN[y_DBSCAN == -1] = 1 # change the cluster labels\n",
    "# since there are only 2 clusters, I just make a simple comparison\n",
    "\n",
    "corr = 0\n",
    "for i, y1 in enumerate(y_DBSCAN):\n",
    "    if y1 == y_GMM[i]:\n",
    "        corr += 1\n",
    "print(\"The accuracy for DBSCAN = \", corr / float(len(y_DBSCAN)))"
   ]
  },
  {
   "cell_type": "markdown",
   "metadata": {},
   "source": [
    "# (c) Test with LSH"
   ]
  },
  {
   "cell_type": "code",
   "execution_count": 20,
   "metadata": {},
   "outputs": [],
   "source": [
    "from lshash.lshash import LSHash\n",
    "\n",
    "e = 0.01\n",
    "lsh = LSHash(round(n_vip * e), n_plu)\n",
    "for v in vipno:\n",
    "    feature = list(trade_mat[v])\n",
    "    lsh.index(feature, extra_data=v)"
   ]
  },
  {
   "cell_type": "code",
   "execution_count": 25,
   "metadata": {},
   "outputs": [],
   "source": [
    "import random\n",
    "\n",
    "def lsh_test():\n",
    "    correct = 0\n",
    "    # pick up a random vipno\n",
    "    pick_vip = random.randint(1, n_vip)\n",
    "    cluster_label = labels[ks.index(7)] \n",
    "    pick_vipno = vipno[pick_vip]\n",
    "    cluster1 = cluster_label[pick_vip]\n",
    "    print(\"Pick up a vip: {0}, cluster = {1}\".format(pick_vipno, cluster1))\n",
    "\n",
    "    # lsh query and write the results\n",
    "    candi = lsh.query(list(trade_mat[pick_vipno]))\n",
    "    l = len(candi)\n",
    "#     print(l)\n",
    "    for i, item in enumerate(candi[1:]):\n",
    "        dist = item[1]\n",
    "        feature = list(item[0][0])\n",
    "        v = item[0][1]\n",
    "        lsh_pair_no = vipno.index(v)\n",
    "        cluster2 = cluster_label[lsh_pair_no]\n",
    "#         print(\"for vip {0}: distance = {1}, cluster = {2}\".format(v, dist, cluster2))\n",
    "        if cluster2 == cluster1:\n",
    "            correct += 1\n",
    "    print(\"accuracy =\", correct, '/', l)\n",
    "    return correct/float(l)"
   ]
  },
  {
   "cell_type": "code",
   "execution_count": 26,
   "metadata": {
    "scrolled": true
   },
   "outputs": [
    {
     "name": "stdout",
     "output_type": "stream",
     "text": [
      "Time # 1\n",
      "Pick up a vip: 1592014001436, cluster = 0\n",
      "accuracy = 35 / 39\n",
      "Time # 2\n",
      "Pick up a vip: 1595160029163, cluster = 0\n",
      "accuracy = 35 / 39\n",
      "Time # 3\n",
      "Pick up a vip: 1590151403106, cluster = 0\n",
      "accuracy = 20 / 21\n",
      "Time # 4\n",
      "Pick up a vip: 2900000394193, cluster = 0\n",
      "accuracy = 29 / 30\n",
      "Time # 5\n",
      "Pick up a vip: 1595160183780, cluster = 0\n",
      "accuracy = 67 / 69\n",
      "Time # 6\n",
      "Pick up a vip: 1595151110818, cluster = 0\n",
      "accuracy = 16 / 17\n",
      "Time # 7\n",
      "Pick up a vip: 2900000764651, cluster = 0\n",
      "accuracy = 29 / 30\n",
      "Time # 8\n",
      "Pick up a vip: 1591012723487, cluster = 0\n",
      "accuracy = 32 / 33\n",
      "Time # 9\n",
      "Pick up a vip: 2900000667914, cluster = 0\n",
      "accuracy = 53 / 55\n",
      "Time # 10\n",
      "Pick up a vip: 2900003113500, cluster = 0\n",
      "accuracy = 29 / 30\n",
      "Time # 11\n",
      "Pick up a vip: 1591012046364, cluster = 0\n",
      "accuracy = 35 / 39\n",
      "Time # 12\n",
      "Pick up a vip: 2900000849273, cluster = 0\n",
      "accuracy = 32 / 34\n",
      "Time # 13\n",
      "Pick up a vip: 2900002512205, cluster = 0\n",
      "accuracy = 29 / 30\n",
      "Time # 14\n",
      "Pick up a vip: 1591012264638, cluster = 0\n",
      "accuracy = 53 / 55\n",
      "Time # 15\n",
      "Pick up a vip: 1595152030009, cluster = 0\n",
      "accuracy = 53 / 55\n",
      "Time # 16\n",
      "Pick up a vip: 2900001118613, cluster = 0\n",
      "accuracy = 32 / 34\n",
      "Time # 17\n",
      "Pick up a vip: 2900000394193, cluster = 0\n",
      "accuracy = 29 / 30\n",
      "Time # 18\n",
      "Pick up a vip: 1598140109237, cluster = 0\n",
      "accuracy = 53 / 55\n",
      "Time # 19\n",
      "Pick up a vip: 1591014295241, cluster = 0\n",
      "accuracy = 35 / 39\n",
      "Time # 20\n",
      "Pick up a vip: 1591015452544, cluster = 0\n",
      "accuracy = 16 / 17\n",
      "Time # 21\n",
      "Pick up a vip: 1591013368588, cluster = 0\n",
      "accuracy = 67 / 69\n",
      "Time # 22\n",
      "Pick up a vip: 1590142212458, cluster = 0\n",
      "accuracy = 32 / 33\n",
      "Time # 23\n",
      "Pick up a vip: 2900000394193, cluster = 0\n",
      "accuracy = 29 / 30\n",
      "Time # 24\n",
      "Pick up a vip: 1590151658711, cluster = 0\n",
      "accuracy = 32 / 33\n",
      "Time # 25\n",
      "Pick up a vip: 1591015442491, cluster = 0\n",
      "accuracy = 32 / 34\n",
      "Time # 26\n",
      "Pick up a vip: 1590142182775, cluster = 0\n",
      "accuracy = 35 / 39\n",
      "Time # 27\n",
      "Pick up a vip: 2900001669313, cluster = 0\n",
      "accuracy = 16 / 17\n",
      "Time # 28\n",
      "Pick up a vip: 1595150738747, cluster = 0\n",
      "accuracy = 67 / 69\n",
      "Time # 29\n",
      "Pick up a vip: 1595132684185, cluster = 0\n",
      "accuracy = 67 / 69\n",
      "Time # 30\n",
      "Pick up a vip: 2900001270199, cluster = 0\n",
      "accuracy = 32 / 34\n",
      "Time # 31\n",
      "Pick up a vip: 1595160183780, cluster = 0\n",
      "accuracy = 67 / 69\n",
      "Time # 32\n",
      "Pick up a vip: 1591012046364, cluster = 0\n",
      "accuracy = 35 / 39\n",
      "Time # 33\n",
      "Pick up a vip: 2900000305083, cluster = 0\n",
      "accuracy = 32 / 33\n",
      "Time # 34\n",
      "Pick up a vip: 1591016406591, cluster = 0\n",
      "accuracy = 67 / 69\n",
      "Time # 35\n",
      "Pick up a vip: 1595151575662, cluster = 0\n",
      "accuracy = 29 / 30\n",
      "Time # 36\n",
      "Pick up a vip: 1595150991142, cluster = 0\n",
      "accuracy = 67 / 69\n",
      "Time # 37\n",
      "Pick up a vip: 1591016561351, cluster = 0\n",
      "accuracy = 35 / 39\n",
      "Time # 38\n",
      "Pick up a vip: 1590142519632, cluster = 0\n",
      "accuracy = 32 / 34\n",
      "Time # 39\n",
      "Pick up a vip: 1595142205462, cluster = 0\n",
      "accuracy = 32 / 33\n",
      "Time # 40\n",
      "Pick up a vip: 1595150739027, cluster = 0\n",
      "accuracy = 67 / 69\n",
      "Time # 41\n",
      "Pick up a vip: 2900001465816, cluster = 0\n",
      "accuracy = 32 / 34\n",
      "Time # 42\n",
      "Pick up a vip: 1591016495014, cluster = 0\n",
      "accuracy = 53 / 55\n",
      "Time # 43\n",
      "Pick up a vip: 1590142135214, cluster = 1\n",
      "accuracy = 0 / 55\n",
      "Time # 44\n",
      "Pick up a vip: 1595142432189, cluster = 0\n",
      "accuracy = 32 / 33\n",
      "Time # 45\n",
      "Pick up a vip: 1591012723487, cluster = 0\n",
      "accuracy = 32 / 33\n",
      "Time # 46\n",
      "Pick up a vip: 1595142205462, cluster = 0\n",
      "accuracy = 32 / 33\n",
      "Time # 47\n",
      "Pick up a vip: 2900001134293, cluster = 0\n",
      "accuracy = 29 / 30\n",
      "Time # 48\n",
      "Pick up a vip: 2900000207707, cluster = 0\n",
      "accuracy = 67 / 69\n",
      "Time # 49\n",
      "Pick up a vip: 1593141371140, cluster = 0\n",
      "accuracy = 53 / 55\n",
      "Time # 50\n",
      "Pick up a vip: 1590140611314, cluster = 0\n",
      "accuracy = 53 / 55\n",
      "The total average accuracy is = 0.9336102908174518\n"
     ]
    }
   ],
   "source": [
    "correctness = 0\n",
    "times = 50\n",
    "for i in range(times):\n",
    "    print(\"Time #\", i+1)\n",
    "    try:\n",
    "        correctness += lsh_test()\n",
    "    except Exception as e:\n",
    "        continue\n",
    "print(\"The total average accuracy is =\", correctness / times)"
   ]
  }
 ],
 "metadata": {
  "kernelspec": {
   "display_name": "Python3(venv)",
   "language": "python",
   "name": "venv"
  },
  "language_info": {
   "codemirror_mode": {
    "name": "ipython",
    "version": 3
   },
   "file_extension": ".py",
   "mimetype": "text/x-python",
   "name": "python",
   "nbconvert_exporter": "python",
   "pygments_lexer": "ipython3",
   "version": "3.6.2"
  }
 },
 "nbformat": 4,
 "nbformat_minor": 2
}
