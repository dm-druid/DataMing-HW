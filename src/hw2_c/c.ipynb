{
 "cells": [
  {
   "cell_type": "markdown",
   "metadata": {},
   "source": [
    "# Package import"
   ]
  },
  {
   "cell_type": "code",
   "execution_count": 15,
   "metadata": {},
   "outputs": [],
   "source": [
    "import csv\n",
    "import numpy as np\n",
    "import pandas as pd\n",
    "import pyfpgrowth\n",
    "import time\n",
    "from datetime import timedelta\n",
    "from PrefixSpan import *"
   ]
  },
  {
   "cell_type": "markdown",
   "metadata": {},
   "source": [
    "# 1. Read Data"
   ]
  },
  {
   "cell_type": "code",
   "execution_count": 16,
   "metadata": {},
   "outputs": [],
   "source": [
    "# only use the new data\n",
    "raw_data = pd.read_csv('../../data/trade_new.csv', index_col=0) # trade_new.csv  and  trade.csv\n",
    "raw_data = raw_data.reset_index(drop=True)\n"
   ]
  },
  {
   "cell_type": "code",
   "execution_count": null,
   "metadata": {},
   "outputs": [],
   "source": [
    "plu_list = raw_data[['pluno', 'pluname']]\n",
    "plu_dict = {}\n",
    "for i in range(len(plu_list)):\n",
    "    pluno = plu_list.loc[i,'pluno']\n",
    "    pluname = plu_list.loc[i,'pluname']\n",
    "    plu_dict[pluno] = pluname\n",
    "plu_list"
   ]
  },
  {
   "cell_type": "code",
   "execution_count": 17,
   "metadata": {},
   "outputs": [
    {
     "name": "stdout",
     "output_type": "stream",
     "text": [
      "46.5\n"
     ]
    }
   ],
   "source": [
    "# use a dict to store the transaction of each vip\n",
    "# also record the sldatime\n",
    "l_data = len(raw_data)\n",
    "vip_transaction = {}\n",
    "vip_set = set()\n",
    "for i in range(l_data):\n",
    "    v = raw_data.loc[i, 'vipno']\n",
    "    t = raw_data.loc[i, 'sldatime'] # sldat -> trade.csv   sldatime -> trade_new.csv\n",
    "    if v in vip_set:\n",
    "        vip_transaction[v].append((t, i))\n",
    "    else:\n",
    "        vip_transaction[v] = [(t, i)]\n",
    "        vip_set.add(v)\n",
    "        \n",
    "        \n",
    "vip_list = list(vip_set)\n",
    "l_list = []\n",
    "with open(\"item_no.csv\", 'w') as f:\n",
    "    for v in vip_list:\n",
    "        l = len(vip_transaction[v])\n",
    "        l_list.append(l)\n",
    "        f.write('{}\\n'.format(l))\n",
    "print(np.mean(l_list))"
   ]
  },
  {
   "cell_type": "code",
   "execution_count": 18,
   "metadata": {},
   "outputs": [],
   "source": [
    "target_vip = []\n",
    "for v in vip_list:\n",
    "    if len(vip_transaction[v])>33:\n",
    "        target_vip.append(v)"
   ]
  },
  {
   "cell_type": "code",
   "execution_count": 19,
   "metadata": {},
   "outputs": [],
   "source": [
    "# sort and cut the data\n",
    "vip_train = {}\n",
    "vip_test = {}\n",
    "for v in vip_list:\n",
    "    # sort\n",
    "    t = vip_transaction[v]\n",
    "    t = sorted(t, key=lambda x:x[0])\n",
    "    \n",
    "    # cut and pick up the index only\n",
    "    l = round(len(t) * 0.6)\n",
    "    train = t[:l]\n",
    "    test = t[l:]\n",
    "    vip_train[v] = [tt[1] for tt in train] # tt[0] --> time , tt[1] --> index of raw_data\n",
    "    vip_test[v] = [tt[1] for tt in test]"
   ]
  },
  {
   "cell_type": "code",
   "execution_count": 20,
   "metadata": {},
   "outputs": [],
   "source": [
    "def split_transaction(indice, item_label, transactions):\n",
    "    split_data = raw_data.loc[indice, ['uid', item_label]] # get the uid and pluno/dptno/bndno columns\n",
    "    if item_label == 'bndno':\n",
    "        split_data = split_data.dropna(how='any')\n",
    "        split_data['bndno'] = split_data['bndno'].astype('int')\n",
    "    groups = split_data.groupby('uid').groups\n",
    "    for u in groups:\n",
    "        index = groups[u] # index of the same uid\n",
    "        t = list(split_data.loc[index, item_label]) # get one transaction\n",
    "        t = [[x] for x in t]\n",
    "        transactions.append(t)"
   ]
  },
  {
   "cell_type": "code",
   "execution_count": 29,
   "metadata": {
    "scrolled": true
   },
   "outputs": [
    {
     "name": "stdout",
     "output_type": "stream",
     "text": [
      "item -- pluno\n",
      "2171\n",
      "support = 10 done. totally cost =  0:00:00.520038\n",
      "support = 8 done. totally cost =  0:00:00.963250\n",
      "support = 6 done. totally cost =  0:00:00.929649\n",
      "support = 4 done. totally cost =  0:00:02.194567\n"
     ]
    }
   ],
   "source": [
    "# mining the sequence pattern first\n",
    "item_label = 'pluno'\n",
    "print(\"item -- {}\".format(item_label))\n",
    "transactions = []\n",
    "for v in target_vip:\n",
    "    split_transaction(vip_train[v], item_label, transactions)\n",
    "print(len(transactions))\n",
    "supports = [10, 8, 6, 4]\n",
    "patterns = {}\n",
    "for s in supports:\n",
    "    time_start=time.time()\n",
    "    p = prefixSpan(SquencePattern([], sys.maxsize), transactions, s)\n",
    "#     patterns = pyfpgrowth.find_frequent_patterns(transactions, s)\n",
    "    pp = []\n",
    "    for x in p:\n",
    "        if len(x.squence) > 1:\n",
    "            pp.append(x)\n",
    "    patterns[s] = pp\n",
    "    time_end=time.time()\n",
    "    print('support = {} done. totally cost = '.format(s), timedelta(seconds=time_end-time_start))"
   ]
  },
  {
   "cell_type": "code",
   "execution_count": 77,
   "metadata": {},
   "outputs": [
    {
     "name": "stdout",
     "output_type": "stream",
     "text": [
      "27\n",
      "52\n",
      "116\n",
      "340\n",
      "{1}\n"
     ]
    }
   ],
   "source": [
    "for s in patterns:\n",
    "    print(len(patterns[s]))\n",
    "t = set()\n",
    "for x in patterns[4]:\n",
    "    for i in x.squence:\n",
    "        t.add(len(i))\n",
    "print(t)"
   ]
  },
  {
   "cell_type": "code",
   "execution_count": 123,
   "metadata": {},
   "outputs": [],
   "source": [
    "pattern = patterns[10]"
   ]
  },
  {
   "cell_type": "code",
   "execution_count": 124,
   "metadata": {},
   "outputs": [],
   "source": [
    "train_set = {}\n",
    "for v in target_vip:\n",
    "    purchase = []\n",
    "    indice = vip_train[v] # the purchase record indice\n",
    "    split_data = raw_data.loc[indice, ['uid', 'pluno']] # get the uid and pluno/dptno/bndno columns\n",
    "    groups = split_data.groupby('uid').groups\n",
    "    for u in groups:\n",
    "        index = groups[u] # index of the same uid\n",
    "        t = list(split_data.loc[index, 'pluno']) # get one transaction\n",
    "        purchase.append(t)\n",
    "    train_set[v] = purchase\n",
    "    \n",
    "test_set = {}\n",
    "for v in target_vip:\n",
    "    purchase = []\n",
    "    indice = vip_test[v] # the purchase record indice\n",
    "    split_data = raw_data.loc[indice, 'pluno']\n",
    "    test_set[v] = list(split_data)"
   ]
  },
  {
   "cell_type": "code",
   "execution_count": 125,
   "metadata": {},
   "outputs": [
    {
     "name": "stdout",
     "output_type": "stream",
     "text": [
      "['炒菜系列', '炒菜系列']\n",
      "['去叶大葱', '西红柿']\n",
      "['黄瓜', '西红柿']\n",
      "['散馒头', '散馒头']\n",
      "['奶油球', '奶油球']\n",
      "['八分场凉皮', '八分场凉皮']\n",
      "['大面包', '大面包']\n"
     ]
    }
   ],
   "source": [
    "# print(train_set[target_vip[1]])\n",
    "# print(test_set[target_vip[1]])\n",
    "f_pattern = []\n",
    "remove_list = [30380002, 30380001, 30380003]\n",
    "for p in pattern:\n",
    "    t = [x[0] for x in p.squence]\n",
    "    flag = True\n",
    "    for plastic in remove_list:\n",
    "        if plastic in t:\n",
    "            flag= False\n",
    "    if flag:\n",
    "        f_pattern.append(t)\n",
    "        pattern_plu = [plu_dict[x] for x in t]\n",
    "        print(pattern_plu)\n",
    "# print(f_pattern)"
   ]
  },
  {
   "cell_type": "code",
   "execution_count": null,
   "metadata": {
    "scrolled": true
   },
   "outputs": [],
   "source": [
    "reco = {}\n",
    "for v in target_vip:\n",
    "    print(\"vip = \", v)\n",
    "    reco[v] = []\n",
    "    shopping_list = train_set[v]\n",
    "    for p in f_pattern:\n",
    "        p_l = len(p)\n",
    "        p_i = 0\n",
    "        s_l = len(shopping_list)\n",
    "        s_i = 0\n",
    "        while p_i < p_l and s_i < s_l:\n",
    "            if (p[p_i] in shopping_list[s_i]):\n",
    "                p_i += 1\n",
    "            s_i += 1\n",
    "        if p_i == p_l - 1:\n",
    "            reco[v].append(p[p_i])\n",
    "        tem = [plu_dict[x] for x in reco[v]]\n",
    "    print(\"recommend -- len={0}, list: {1}\".format(len(reco[v]), tem))"
   ]
  },
  {
   "cell_type": "code",
   "execution_count": null,
   "metadata": {},
   "outputs": [],
   "source": [
    "precision = []\n",
    "recall = []\n",
    "for v in target_vip:\n",
    "    print(\"vip = \", v)\n",
    "    hit = 0\n",
    "    reco_l = len(reco[v])\n",
    "    shop_l = len(test_set[v])\n",
    "    if reco_l == 0:\n",
    "        continue\n",
    "    for item in reco[v]:\n",
    "        if item in test_set[v]:\n",
    "            hit += 1\n",
    "    precision.append(hit/reco_l)\n",
    "    recall.append(hit/shop_l)\n",
    "    print(\"presicion = {0} / {1}\".format(hit, reco_l))\n",
    "    print(\"recall = {0} / {1}\".format(hit, shop_l))\n",
    "print(np.mean(precision))\n",
    "print(np.mean(recall))"
   ]
  },
  {
   "cell_type": "code",
   "execution_count": null,
   "metadata": {},
   "outputs": [],
   "source": []
  },
  {
   "cell_type": "code",
   "execution_count": null,
   "metadata": {},
   "outputs": [],
   "source": []
  }
 ],
 "metadata": {
  "kernelspec": {
   "display_name": "Python3(venv)",
   "language": "python",
   "name": "venv"
  },
  "language_info": {
   "codemirror_mode": {
    "name": "ipython",
    "version": 3
   },
   "file_extension": ".py",
   "mimetype": "text/x-python",
   "name": "python",
   "nbconvert_exporter": "python",
   "pygments_lexer": "ipython3",
   "version": "3.6.2"
  }
 },
 "nbformat": 4,
 "nbformat_minor": 2
}
