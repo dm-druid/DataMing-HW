{
 "cells": [
  {
   "cell_type": "markdown",
   "metadata": {},
   "source": [
    "# Package import"
   ]
  },
  {
   "cell_type": "code",
   "execution_count": 9,
   "metadata": {},
   "outputs": [],
   "source": [
    "import csv\n",
    "import numpy as np\n",
    "import pandas as pd\n",
    "import pyfpgrowth\n",
    "import time\n",
    "from datetime import timedelta\n",
    "from PrefixSpan import *"
   ]
  },
  {
   "cell_type": "markdown",
   "metadata": {},
   "source": [
    "# 1. Read Data"
   ]
  },
  {
   "cell_type": "code",
   "execution_count": 23,
   "metadata": {},
   "outputs": [],
   "source": [
    "raw_data = pd.read_csv('../../data/trade_new.csv', index_col=0) # trade_new.csv  and  trade.csv\n",
    "raw_data = raw_data.reset_index(drop=True)\n",
    "\n",
    "# raw_data = pd.read_csv('../../data/trade.csv')\n",
    "# print(\"Read data...\")"
   ]
  },
  {
   "cell_type": "code",
   "execution_count": 25,
   "metadata": {},
   "outputs": [],
   "source": [
    "# use a dict to store the transaction of each vip\n",
    "# also record the sldatime\n",
    "l_data = len(raw_data)\n",
    "vip_transaction = {}\n",
    "vip_set = set()\n",
    "for i in range(l_data):\n",
    "    v = raw_data.loc[i, 'vipno']\n",
    "    t = raw_data.loc[i, 'sldatime'] # sldat -> trade.csv   sldatime -> trade_new.csv\n",
    "    if v in vip_set:\n",
    "        vip_transaction[v].append((t, i))\n",
    "    else:\n",
    "        vip_transaction[v] = [(t, i)]\n",
    "        vip_set.add(v)"
   ]
  },
  {
   "cell_type": "code",
   "execution_count": 26,
   "metadata": {},
   "outputs": [],
   "source": [
    "# sort and cut the data\n",
    "vip_list = list(vip_set)\n",
    "for v in vip_list:\n",
    "    # sort\n",
    "    t = vip_transaction[v]\n",
    "    t = sorted(t, key=lambda x:x[0])\n",
    "    \n",
    "    # cut and pick up the index only\n",
    "    l = round(len(t) * 0.6)\n",
    "    t = t[:l]\n",
    "    vip_transaction[v] = [tt[1] for tt in t] # tt[0] --> time , tt[1] --> index of raw_data"
   ]
  },
  {
   "cell_type": "code",
   "execution_count": 27,
   "metadata": {},
   "outputs": [],
   "source": [
    "def split_transaction(indice, item_label, transactions):\n",
    "    split_data = raw_data.loc[indice, ['uid', item_label]] # get the uid and pluno/dptno/bndno columns\n",
    "    if item_label == 'bndno':\n",
    "        split_data = split_data.dropna(how='any')\n",
    "        split_data['bndno'] = split_data['bndno'].astype('int')\n",
    "    groups = split_data.groupby('uid').groups\n",
    "    for u in groups:\n",
    "        index = groups[u] # index of the same uid\n",
    "        t = list(split_data.loc[index, item_label]) # get one transaction\n",
    "        t = [[x] for x in t]\n",
    "        transactions.append(t)"
   ]
  },
  {
   "cell_type": "code",
   "execution_count": 28,
   "metadata": {
    "scrolled": true
   },
   "outputs": [
    {
     "name": "stdout",
     "output_type": "stream",
     "text": [
      "item -- dptno\n",
      "2787\n",
      "support = 64 done. totally cost =  0:00:00.141549\n",
      "support = 32 done. totally cost =  0:00:00.361789\n",
      "support = 16 done. totally cost =  0:00:00.625829\n",
      "support = 8 done. totally cost =  0:00:01.357823\n",
      "support = 4 done. totally cost =  0:00:02.415359\n",
      "support = 2 done. totally cost =  0:00:03.952705\n",
      "item -- pluno\n",
      "2787\n",
      "support = 64 done. totally cost =  0:00:00.070485\n",
      "support = 32 done. totally cost =  0:00:00.189177\n",
      "support = 16 done. totally cost =  0:00:00.520623\n",
      "support = 8 done. totally cost =  0:00:01.387272\n",
      "support = 4 done. totally cost =  0:00:02.879114\n",
      "support = 2 done. totally cost =  0:00:08.074477\n",
      "item -- bndno\n",
      "2024\n",
      "support = 64 done. totally cost =  0:00:00.029142\n",
      "support = 32 done. totally cost =  0:00:00.077997\n",
      "support = 16 done. totally cost =  0:00:00.220577\n",
      "support = 8 done. totally cost =  0:00:00.389557\n",
      "support = 4 done. totally cost =  0:00:00.738868\n",
      "support = 2 done. totally cost =  0:00:01.281443\n"
     ]
    }
   ],
   "source": [
    "item_labels = ['dptno', 'pluno', 'bndno']\n",
    "time_duration = []\n",
    "for item_label in item_labels:\n",
    "    print(\"item -- {}\".format(item_label))\n",
    "    # fill the transactions with the items\n",
    "    transactions = []\n",
    "    for v in vip_list:\n",
    "        split_transaction(vip_transaction[v], item_label, transactions)\n",
    "    print(len(transactions)) # print the transaction number\n",
    "    # call FP algorithm\n",
    "    supports = [64, 32, 16, 8, 4, 2]\n",
    "    for s in supports:\n",
    "        time_start=time.time()\n",
    "        patterns = prefixSpan(SquencePattern([], sys.maxsize), transactions, s)\n",
    "        with open('sp_{0}_{1}.txt'.format(item_label, s), 'w') as f:\n",
    "            for p in patterns:\n",
    "                f.write(\"pattern:{0}, support:{1}\\n\".format(p.squence, p.support))\n",
    "        time_end=time.time()\n",
    "        print('support = {} done. totally cost = '.format(s), timedelta(seconds=time_end-time_start))\n",
    "        time_duration.append(time_end-time_start)"
   ]
  },
  {
   "cell_type": "code",
   "execution_count": 29,
   "metadata": {},
   "outputs": [],
   "source": [
    "with open('time.csv', 'w') as f:\n",
    "    t = ','.join([str(x) for x in time_duration[:6]])\n",
    "    f.write(t + '\\n')\n",
    "    t = ','.join([str(x) for x in time_duration[6:12]])\n",
    "    f.write(t + '\\n')\n",
    "    t = ','.join([str(x) for x in time_duration[12:]])\n",
    "    f.write(t + '\\n')"
   ]
  },
  {
   "cell_type": "code",
   "execution_count": 21,
   "metadata": {},
   "outputs": [
    {
     "name": "stdout",
     "output_type": "stream",
     "text": [
      "[0.07019591331481934, 0.11803483963012695, 0.23120594024658203, 0.30949926376342773, 0.5743751525878906, 1.1606569290161133]\n",
      "[0.02225208282470703, 0.06181192398071289, 0.13244986534118652, 0.356701135635376, 0.5810708999633789, 1.580782175064087]\n",
      "[0.0110321044921875, 0.014880180358886719, 0.028963088989257812, 0.06637215614318848, 0.14502811431884766, 0.36875486373901367]\n"
     ]
    }
   ],
   "source": [
    "print(time_duration[:6])\n",
    "print(time_duration[6:12])\n",
    "print(time_duration[12:])"
   ]
  },
  {
   "cell_type": "code",
   "execution_count": 34,
   "metadata": {},
   "outputs": [
    {
     "name": "stdout",
     "output_type": "stream",
     "text": [
      "16\n",
      "40\n",
      "117\n",
      "288\n",
      "896\n",
      "4998\n",
      "7\n",
      "22\n",
      "57\n",
      "151\n",
      "479\n",
      "2666\n",
      "6\n",
      "10\n",
      "35\n",
      "94\n",
      "266\n",
      "1226\n"
     ]
    }
   ],
   "source": [
    "item_labels = ['dptno', 'pluno', 'bndno']\n",
    "numbers = []\n",
    "for item_label in item_labels:\n",
    "    supports = [64, 32, 16, 8, 4, 2]\n",
    "    for s in supports:\n",
    "        item_number = 0 \n",
    "        with open('result_trade/sp_{0}_{1}.txt'.format(item_label, s), 'r') as f:\n",
    "            for line in f:\n",
    "                item_number += 1\n",
    "        print(item_number)\n",
    "        numbers.append(item_number)"
   ]
  },
  {
   "cell_type": "code",
   "execution_count": 35,
   "metadata": {},
   "outputs": [],
   "source": [
    "with open('number.csv', 'w') as f:\n",
    "    t = ','.join([str(x) for x in numbers[:6]])\n",
    "    f.write(t + '\\n')\n",
    "    t = ','.join([str(x) for x in numbers[6:12]])\n",
    "    f.write(t + '\\n')\n",
    "    t = ','.join([str(x) for x in numbers[12:]])\n",
    "    f.write(t + '\\n')"
   ]
  },
  {
   "cell_type": "code",
   "execution_count": null,
   "metadata": {},
   "outputs": [],
   "source": []
  }
 ],
 "metadata": {
  "kernelspec": {
   "display_name": "Python3(venv)",
   "language": "python",
   "name": "venv"
  },
  "language_info": {
   "codemirror_mode": {
    "name": "ipython",
    "version": 3
   },
   "file_extension": ".py",
   "mimetype": "text/x-python",
   "name": "python",
   "nbconvert_exporter": "python",
   "pygments_lexer": "ipython3",
   "version": "3.6.2"
  }
 },
 "nbformat": 4,
 "nbformat_minor": 2
}
